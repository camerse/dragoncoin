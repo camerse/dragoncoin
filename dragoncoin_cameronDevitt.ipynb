{
 "cells": [
  {
   "cell_type": "code",
   "execution_count": 1,
   "metadata": {},
   "outputs": [],
   "source": [
    "import numpy as np \n",
    "import pandas as pd \n",
    "import sklearn\n",
    "import os\n",
    "import matplotlib.pyplot as plt"
   ]
  },
  {
   "cell_type": "code",
   "execution_count": 5,
   "metadata": {},
   "outputs": [
    {
     "data": {
      "text/html": [
       "<div>\n",
       "<style scoped>\n",
       "    .dataframe tbody tr th:only-of-type {\n",
       "        vertical-align: middle;\n",
       "    }\n",
       "\n",
       "    .dataframe tbody tr th {\n",
       "        vertical-align: top;\n",
       "    }\n",
       "\n",
       "    .dataframe thead th {\n",
       "        text-align: right;\n",
       "    }\n",
       "</style>\n",
       "<table border=\"1\" class=\"dataframe\">\n",
       "  <thead>\n",
       "    <tr style=\"text-align: right;\">\n",
       "      <th></th>\n",
       "      <th>date</th>\n",
       "      <th>tx_from</th>\n",
       "      <th>tx_to</th>\n",
       "      <th>tx_amount</th>\n",
       "      <th>tx_fee</th>\n",
       "    </tr>\n",
       "  </thead>\n",
       "  <tbody>\n",
       "    <tr>\n",
       "      <td>0</td>\n",
       "      <td>12-21-2018</td>\n",
       "      <td>C5</td>\n",
       "      <td>B2</td>\n",
       "      <td>41 DRG</td>\n",
       "      <td>5.0</td>\n",
       "    </tr>\n",
       "    <tr>\n",
       "      <td>1</td>\n",
       "      <td>12-21-2018</td>\n",
       "      <td>D9</td>\n",
       "      <td>E9</td>\n",
       "      <td>131 DRG</td>\n",
       "      <td>18.0</td>\n",
       "    </tr>\n",
       "    <tr>\n",
       "      <td>2</td>\n",
       "      <td>12-21-2018</td>\n",
       "      <td>C3</td>\n",
       "      <td>K2</td>\n",
       "      <td>155 DRG</td>\n",
       "      <td>18.0</td>\n",
       "    </tr>\n",
       "    <tr>\n",
       "      <td>3</td>\n",
       "      <td>12-21-2018</td>\n",
       "      <td>C6</td>\n",
       "      <td>A3</td>\n",
       "      <td>231 DRG</td>\n",
       "      <td>23.0</td>\n",
       "    </tr>\n",
       "    <tr>\n",
       "      <td>4</td>\n",
       "      <td>12-21-2018</td>\n",
       "      <td>K7</td>\n",
       "      <td>J2</td>\n",
       "      <td>94 DRG</td>\n",
       "      <td>8.0</td>\n",
       "    </tr>\n",
       "  </tbody>\n",
       "</table>\n",
       "</div>"
      ],
      "text/plain": [
       "         date tx_from tx_to tx_amount  tx_fee\n",
       "0  12-21-2018      C5    B2    41 DRG     5.0\n",
       "1  12-21-2018      D9    E9   131 DRG    18.0\n",
       "2  12-21-2018      C3    K2   155 DRG    18.0\n",
       "3  12-21-2018      C6    A3   231 DRG    23.0\n",
       "4  12-21-2018      K7    J2    94 DRG     8.0"
      ]
     },
     "execution_count": 5,
     "metadata": {},
     "output_type": "execute_result"
    }
   ],
   "source": [
    "df1 = pd.read_csv(\"dragoncoin-part1.csv\")\n",
    "df1.head()\n",
    "df2 = pd.read_csv(\"dragoncoin-part2.csv\")\n",
    "df2.head()\n",
    "df3 = pd.read_csv(\"dragoncoin-part3.csv\")\n",
    "df3.head()"
   ]
  },
  {
   "cell_type": "code",
   "execution_count": 6,
   "metadata": {},
   "outputs": [
    {
     "data": {
      "text/html": [
       "<div>\n",
       "<style scoped>\n",
       "    .dataframe tbody tr th:only-of-type {\n",
       "        vertical-align: middle;\n",
       "    }\n",
       "\n",
       "    .dataframe tbody tr th {\n",
       "        vertical-align: top;\n",
       "    }\n",
       "\n",
       "    .dataframe thead th {\n",
       "        text-align: right;\n",
       "    }\n",
       "</style>\n",
       "<table border=\"1\" class=\"dataframe\">\n",
       "  <thead>\n",
       "    <tr style=\"text-align: right;\">\n",
       "      <th></th>\n",
       "      <th>date</th>\n",
       "      <th>tx_from</th>\n",
       "      <th>tx_to</th>\n",
       "      <th>tx_amount</th>\n",
       "      <th>tx_fee</th>\n",
       "    </tr>\n",
       "  </thead>\n",
       "  <tbody>\n",
       "    <tr>\n",
       "      <td>0</td>\n",
       "      <td>11-15-2017</td>\n",
       "      <td>Dragon Bank</td>\n",
       "      <td>A1</td>\n",
       "      <td>100 DRG</td>\n",
       "      <td>0.0</td>\n",
       "    </tr>\n",
       "    <tr>\n",
       "      <td>1</td>\n",
       "      <td>11-16-2017</td>\n",
       "      <td>A1</td>\n",
       "      <td>B4</td>\n",
       "      <td>35 DRG</td>\n",
       "      <td>4.0</td>\n",
       "    </tr>\n",
       "    <tr>\n",
       "      <td>2</td>\n",
       "      <td>11-16-2017</td>\n",
       "      <td>Dragon Bank</td>\n",
       "      <td>C6</td>\n",
       "      <td>64 DRG</td>\n",
       "      <td>0.0</td>\n",
       "    </tr>\n",
       "    <tr>\n",
       "      <td>3</td>\n",
       "      <td>11-16-2017</td>\n",
       "      <td>B4</td>\n",
       "      <td>C6</td>\n",
       "      <td>23 DRG</td>\n",
       "      <td>3.0</td>\n",
       "    </tr>\n",
       "    <tr>\n",
       "      <td>4</td>\n",
       "      <td>11-16-2017</td>\n",
       "      <td>Dragon Bank</td>\n",
       "      <td>H8</td>\n",
       "      <td>192 DRG</td>\n",
       "      <td>0.0</td>\n",
       "    </tr>\n",
       "  </tbody>\n",
       "</table>\n",
       "</div>"
      ],
      "text/plain": [
       "         date      tx_from tx_to tx_amount  tx_fee\n",
       "0  11-15-2017  Dragon Bank    A1   100 DRG     0.0\n",
       "1  11-16-2017           A1    B4    35 DRG     4.0\n",
       "2  11-16-2017  Dragon Bank    C6    64 DRG     0.0\n",
       "3  11-16-2017           B4    C6    23 DRG     3.0\n",
       "4  11-16-2017  Dragon Bank    H8   192 DRG     0.0"
      ]
     },
     "execution_count": 6,
     "metadata": {},
     "output_type": "execute_result"
    }
   ],
   "source": [
    "#append all 3 to one df\n",
    "frames = [df1, df2, df3]\n",
    "dragoncoin = pd.concat(frames)\n",
    "dragoncoin.head()"
   ]
  },
  {
   "cell_type": "code",
   "execution_count": 7,
   "metadata": {},
   "outputs": [
    {
     "name": "stdout",
     "output_type": "stream",
     "text": [
      "Rows     :  1781628\n",
      "Columns  :  5\n",
      "\n",
      "Features : \n",
      " ['date', 'tx_from', 'tx_to', 'tx_amount', 'tx_fee']\n",
      "\n",
      "Missing values :   35637\n",
      "\n",
      "Unique values :  \n",
      " date          587\n",
      "tx_from        85\n",
      "tx_to          84\n",
      "tx_amount    1269\n",
      "tx_fee        186\n",
      "dtype: int64\n",
      "<class 'pandas.core.frame.DataFrame'>\n",
      "Int64Index: 1781628 entries, 0 to 593875\n",
      "Data columns (total 5 columns):\n",
      "date         object\n",
      "tx_from      object\n",
      "tx_to        object\n",
      "tx_amount    object\n",
      "tx_fee       float64\n",
      "dtypes: float64(1), object(4)\n",
      "memory usage: 81.6+ MB\n",
      "None\n"
     ]
    }
   ],
   "source": [
    "print (\"Rows     : \" ,dragoncoin.shape[0])\n",
    "print (\"Columns  : \" ,dragoncoin.shape[1])\n",
    "print (\"\\nFeatures : \\n\" ,dragoncoin.columns.tolist())\n",
    "print (\"\\nMissing values :  \", dragoncoin.isnull().sum().values.sum())\n",
    "print (\"\\nUnique values :  \\n\",dragoncoin.nunique())\n",
    "print(dragoncoin.info())"
   ]
  },
  {
   "cell_type": "code",
   "execution_count": 11,
   "metadata": {},
   "outputs": [
    {
     "data": {
      "text/plain": [
       "array(['A1', 'A3', 'A4', 'A5', 'A6', 'A7', 'A8', 'A9', 'B1', 'B2', 'B3',\n",
       "       'B4', 'B5', 'B6', 'B7', 'B9', 'C1', 'C2', 'C3', 'C4', 'C5', 'C6',\n",
       "       'C7', 'C8', 'C9', 'D1', 'D2', 'D3', 'D4', 'D5', 'D6', 'D7', 'D8',\n",
       "       'D9', 'Dragon Bank', 'E1', 'E2', 'E3', 'E4', 'E5', 'E6', 'E7',\n",
       "       'E8', 'E9', 'F1', 'F2', 'F3', 'F4', 'F5', 'F6', 'F7', 'F8', 'F9',\n",
       "       'G1', 'G2', 'G3', 'G4', 'G5', 'G6', 'G7', 'G8', 'G9', 'H1', 'H2',\n",
       "       'H3', 'H5', 'H7', 'H8', 'J1', 'J2', 'J3', 'J4', 'J5', 'J6', 'J7',\n",
       "       'J9', 'K1', 'K2', 'K3', 'K4', 'K5', 'K6', 'K7', 'K8', 'K9'],\n",
       "      dtype=object)"
      ]
     },
     "execution_count": 11,
     "metadata": {},
     "output_type": "execute_result"
    }
   ],
   "source": [
    "np.unique(dragoncoin[['tx_from', 'tx_to']].values)\n"
   ]
  },
  {
   "cell_type": "code",
   "execution_count": 13,
   "metadata": {},
   "outputs": [
    {
     "ename": "NameError",
     "evalue": "name 'tx_amount' is not defined",
     "output_type": "error",
     "traceback": [
      "\u001b[0;31m---------------------------------------------------------------------------\u001b[0m",
      "\u001b[0;31mNameError\u001b[0m                                 Traceback (most recent call last)",
      "\u001b[0;32m<ipython-input-13-a264ee08ede8>\u001b[0m in \u001b[0;36m<module>\u001b[0;34m\u001b[0m\n\u001b[0;32m----> 1\u001b[0;31m \u001b[0mdragoncoin\u001b[0m\u001b[0;34m[\u001b[0m\u001b[0mtx_amount\u001b[0m\u001b[0;34m]\u001b[0m\u001b[0;34m.\u001b[0m\u001b[0mstr\u001b[0m\u001b[0;34m.\u001b[0m\u001b[0mrstrip\u001b[0m\u001b[0;34m(\u001b[0m\u001b[0;34m\"DRG\"\u001b[0m\u001b[0;34m)\u001b[0m\u001b[0;34m\u001b[0m\u001b[0;34m\u001b[0m\u001b[0m\n\u001b[0m\u001b[1;32m      2\u001b[0m \u001b[0mdragoncoin\u001b[0m\u001b[0;34m[\u001b[0m\u001b[0mtx_amount\u001b[0m\u001b[0;34m]\u001b[0m\u001b[0;34m.\u001b[0m\u001b[0mmedian\u001b[0m\u001b[0;34m(\u001b[0m\u001b[0;34m)\u001b[0m\u001b[0;34m\u001b[0m\u001b[0;34m\u001b[0m\u001b[0m\n",
      "\u001b[0;31mNameError\u001b[0m: name 'tx_amount' is not defined"
     ]
    }
   ],
   "source": [
    "dragoncoin[tx_amount].str.rstrip(\"DRG\")\n",
    "dragoncoin[tx_amount].median()\n"
   ]
  },
  {
   "cell_type": "code",
   "execution_count": null,
   "metadata": {},
   "outputs": [],
   "source": []
  }
 ],
 "metadata": {
  "kernelspec": {
   "display_name": "Python 3",
   "language": "python",
   "name": "python3"
  },
  "language_info": {
   "codemirror_mode": {
    "name": "ipython",
    "version": 3
   },
   "file_extension": ".py",
   "mimetype": "text/x-python",
   "name": "python",
   "nbconvert_exporter": "python",
   "pygments_lexer": "ipython3",
   "version": "3.7.3"
  }
 },
 "nbformat": 4,
 "nbformat_minor": 2
}
